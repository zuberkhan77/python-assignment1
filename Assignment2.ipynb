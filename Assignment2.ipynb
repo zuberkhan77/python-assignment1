{
 "cells": [
  {
   "cell_type": "markdown",
   "id": "8246209b-b35f-424a-a7f4-9fe6b290e2ab",
   "metadata": {},
   "source": [
    "**Write a function greet that takes two arguments: name (a string) and greeting (a string with a default value of \"Hello\"). The function should return a greeting message.**"
   ]
  },
  {
   "cell_type": "code",
   "execution_count": 1,
   "id": "5630a3da-6f74-4e25-a80a-c3f2ed5aed0e",
   "metadata": {},
   "outputs": [
    {
     "name": "stdout",
     "output_type": "stream",
     "text": [
      "Hello Alice\n",
      "Good Morning Bob\n"
     ]
    }
   ],
   "source": [
    "def greet(name, greeting=\"Hello\"):\n",
    "    return f\"{greeting} {name}\"\n",
    "\n",
    "\n",
    "print(greet(\"Alice\"))                \n",
    "print(greet(\"Bob\", \"Good Morning\"))  \n"
   ]
  },
  {
   "cell_type": "markdown",
   "id": "6ae9733b-f5df-47b9-81f9-bde9ed679cad",
   "metadata": {},
   "source": [
    "***Create a function create_profile that takes arguments for name, age, and city as named arguments. The function should return a string like \"Name: Alice, Age: 25, City: New York\". Ensure that the age argument has a default value of 18.***"
   ]
  },
  {
   "cell_type": "code",
   "execution_count": 2,
   "id": "3681de1b-1f4f-414f-8591-4c05beba19f4",
   "metadata": {},
   "outputs": [
    {
     "name": "stdout",
     "output_type": "stream",
     "text": [
      " Name: John, Age: 18, City: Chicago\n",
      " Name: Emma, Age: 22, City: Los Angeles\n"
     ]
    }
   ],
   "source": [
    "def create_profile(*,name, age=18,city):\n",
    "    return f\" Name: {name}, Age: {age}, City: {city}\"\n",
    "\n",
    "print(create_profile(name=\"John\", city=\"Chicago\"))  \n",
    "\n",
    "print(create_profile(name=\"Emma\", age=22, city=\"Los Angeles\"))  \n"
   ]
  },
  {
   "cell_type": "markdown",
   "id": "e36156b6-fee1-4332-96bd-427f823c6d75",
   "metadata": {},
   "source": [
    "**Write a function sum_numbers that takes any number of positional arguments (args) and keyword arguments (*kwargs). It should:***\n",
    "\n",
    "    Return the sum of all *args if they are numbers.\n",
    "    \r\n",
    "    \r\n",
    "Return a dictionary of all keyword arguments."
   ]
  },
  {
   "cell_type": "code",
   "execution_count": 3,
   "id": "7f6bfc93-97d7-4873-a5ac-64e5e62e3f0c",
   "metadata": {},
   "outputs": [
    {
     "name": "stdout",
     "output_type": "stream",
     "text": [
      "(6, {})\n",
      "(3, {'x': 4, 'y': 5})\n"
     ]
    }
   ],
   "source": [
    "def sum_numbers(*args, **kwargs):\n",
    "    total_sum = sum(arg for arg in args if isinstance(arg, (int, float)))\n",
    "    \n",
    "    \n",
    "    return total_sum, kwargs\n",
    "\n",
    "\n",
    "print(sum_numbers(1, 2, 3))  \n",
    "\n",
    "print(sum_numbers(1, 2, x=4, y=5))  \n",
    "\n"
   ]
  },
  {
   "cell_type": "markdown",
   "id": "4754d981-1466-4ea7-baf3-a6db715ccbaf",
   "metadata": {},
   "source": [
    "**Write a function that uses map and a lambda to return a list where each element is squared.**"
   ]
  },
  {
   "cell_type": "code",
   "execution_count": 4,
   "id": "e002e5fd-a086-4e2e-a5a8-8801c629c621",
   "metadata": {},
   "outputs": [
    {
     "name": "stdout",
     "output_type": "stream",
     "text": [
      "[1, 4, 9, 16]\n"
     ]
    }
   ],
   "source": [
    "def square_list(lst):\n",
    "    return list(map(lambda x: x**2, lst))\n",
    "\n",
    "print(square_list([1, 2, 3, 4]))  \n",
    "\n"
   ]
  },
  {
   "cell_type": "markdown",
   "id": "84d405c2-d566-4aae-bace-980c03054a14",
   "metadata": {},
   "source": [
    "**Write a function that filters out all odd numbers from a list using filter and a lambda function.**"
   ]
  },
  {
   "cell_type": "code",
   "execution_count": 5,
   "id": "7dc8c1c5-c300-4555-bafb-8ee71b1221e9",
   "metadata": {},
   "outputs": [
    {
     "data": {
      "text/plain": [
       "[2, 4]"
      ]
     },
     "execution_count": 5,
     "metadata": {},
     "output_type": "execute_result"
    }
   ],
   "source": [
    "def filter_odd_numbers(lst):\n",
    "    return list(filter(lambda x:x%2==0,lst))\n",
    "\n",
    "filter_odd_numbers([1, 2, 3, 4, 5])  # Output: [2, 4]\n"
   ]
  },
  {
   "cell_type": "markdown",
   "id": "f45ad50e-b7cb-4be8-a4a9-ad81d6c9f979",
   "metadata": {},
   "source": [
    "**Create a list comprehension that takes a list of numbers and returns a list of their squares.**|"
   ]
  },
  {
   "cell_type": "code",
   "execution_count": 6,
   "id": "1a9f110c-075b-49bd-8903-852616d5e099",
   "metadata": {},
   "outputs": [
    {
     "name": "stdin",
     "output_type": "stream",
     "text": [
      "Enter a number: 5\n"
     ]
    },
    {
     "name": "stdout",
     "output_type": "stream",
     "text": [
      "[0, 1, 4, 9, 16]\n"
     ]
    }
   ],
   "source": [
    "n=int(input(\"Enter a number:\"))\n",
    "squares = [x**2 for x in range(n)]\n",
    "\n",
    "print(squares)"
   ]
  },
  {
   "cell_type": "markdown",
   "id": "7eb0e515-eea3-48c6-a1c7-a25aa43549a2",
   "metadata": {},
   "source": [
    "**Use a list comprehension to create a list of even numbers from 1 to 20.**"
   ]
  },
  {
   "cell_type": "code",
   "execution_count": 7,
   "id": "d40ada26-146f-4734-be8a-e670e30b6dfd",
   "metadata": {},
   "outputs": [
    {
     "name": "stdout",
     "output_type": "stream",
     "text": [
      "[2, 4, 6, 8, 10, 12, 14, 16, 18, 20]\n"
     ]
    }
   ],
   "source": [
    "Even=[x for x in range(1, 21) if x % 2 == 0]  \n",
    "print(Even)"
   ]
  },
  {
   "cell_type": "markdown",
   "id": "1f520c67-5729-4f24-99e4-ec46bb173fd9",
   "metadata": {},
   "source": [
    "**Write a function file_operations that creates a directory named \"test_folder\" using os.makedirs(). Then, pause the execution for 3 seconds using time.sleep(), and finally, delete the directory using os.rmdir().**"
   ]
  },
  {
   "cell_type": "code",
   "execution_count": 8,
   "id": "d75ec629-eed2-467e-9a61-6de18fd08528",
   "metadata": {},
   "outputs": [
    {
     "name": "stdout",
     "output_type": "stream",
     "text": [
      "Directory 'test_folder' created.\n",
      "Directory 'test_folder' deleted.\n"
     ]
    }
   ],
   "source": [
    "\n",
    "import os\n",
    "import time\n",
    "\n",
    "def file_operations():\n",
    "    # Step 1: Create a directory named \"test_folder\"\n",
    "    folder_name = \"test_folder\"\n",
    "    \n",
    "    try:\n",
    "        os.makedirs(folder_name, exist_ok=True)\n",
    "        print(f\"Directory '{folder_name}' created.\")\n",
    "    except Exception as e:\n",
    "        print(f\"Error creating directory: {e}\")\n",
    "    \n",
    "    # Step 2: Pause execution for 3 seconds\n",
    "    time.sleep(3)\n",
    "    \n",
    "    # Step 3: Remove the directory\n",
    "    try:\n",
    "        os.rmdir(folder_name)\n",
    "        print(f\"Directory '{folder_name}' deleted.\")\n",
    "    except Exception as e:\n",
    "        print(f\"Error deleting directory: {e}\")\n",
    "\n",
    "# Example usage:\n",
    "if __name__ == \"__main__\":\n",
    "    file_operations()\n"
   ]
  },
  {
   "cell_type": "markdown",
   "id": "acf517ed-eda0-4cb5-bd06-707c6161d5b4",
   "metadata": {},
   "source": [
    "**Write a Python script that imports only sleep from the time module and renames it to pause. Use it to pause execution for 2 seconds and print \"Paused execution...\".**"
   ]
  },
  {
   "cell_type": "code",
   "execution_count": 9,
   "id": "baeb2349-aef0-470d-a40e-681d3a562eda",
   "metadata": {},
   "outputs": [
    {
     "name": "stdout",
     "output_type": "stream",
     "text": [
      "Paused execution...\n"
     ]
    }
   ],
   "source": [
    "# Importing sleep from time and renaming it to pause\n",
    "from time import sleep as pause\n",
    "\n",
    "# Pause execution for 2 seconds\n",
    "pause(2)\n",
    "\n",
    "# Print a message after the pause\n",
    "print(\"Paused execution...\")\n"
   ]
  },
  {
   "cell_type": "markdown",
   "id": "2fa01458-8511-49c7-98d3-7a7c806dff0a",
   "metadata": {},
   "source": [
    "Write a recursive function flatten_list that can flatten a nested list of any depth using *args and **kwargs."
   ]
  },
  {
   "cell_type": "markdown",
   "id": "8fef789f-1800-4640-bf33-f2f65f285dce",
   "metadata": {},
   "source": [
    "Explanation:\n",
    "Flattening a list means converting a nested list into a single-level list.\n",
    "If the list contains sub-lists, we recursively traverse them and extract their elements to form one flat list."
   ]
  },
  {
   "cell_type": "code",
   "execution_count": 10,
   "id": "4ee6ac60-5422-4d67-8cf5-a11fd4819e91",
   "metadata": {},
   "outputs": [
    {
     "name": "stdout",
     "output_type": "stream",
     "text": [
      "[1, 2, 3, 4, 5, 6]\n",
      "[1, 2, 3, 4, 5]\n"
     ]
    }
   ],
   "source": [
    "def flatten_list(nested_list, *args, **kwargs):\n",
    "    flat_list = []\n",
    "    \n",
    "    # Loop through each item in the nested list\n",
    "    for item in nested_list:\n",
    "        # If the item is a list, recursively flatten it\n",
    "        if isinstance(item, list):\n",
    "            flat_list.extend(flatten_list(item))\n",
    "        # If the item is not a list, add it to the flat list\n",
    "        else:\n",
    "            flat_list.append(item)\n",
    "    \n",
    "    return flat_list\n",
    "\n",
    "# Example usage:\n",
    "print(flatten_list([1, [2, 3], [[4, 5], 6]]))  # Output: [1, 2, 3, 4, 5, 6]\n",
    "print(flatten_list([[1, 2], [3, [4, [5]]]]))   # Output: [1, 2, 3, 4, 5]\n"
   ]
  },
  {
   "cell_type": "code",
   "execution_count": null,
   "id": "e7885605-929a-4571-8b5d-6b3c00ca9700",
   "metadata": {},
   "outputs": [],
   "source": []
  }
 ],
 "metadata": {
  "kernelspec": {
   "display_name": "Python 3 (ipykernel)",
   "language": "python",
   "name": "python3"
  },
  "language_info": {
   "codemirror_mode": {
    "name": "ipython",
    "version": 3
   },
   "file_extension": ".py",
   "mimetype": "text/x-python",
   "name": "python",
   "nbconvert_exporter": "python",
   "pygments_lexer": "ipython3",
   "version": "3.12.4"
  }
 },
 "nbformat": 4,
 "nbformat_minor": 5
}
